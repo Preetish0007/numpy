{
 "cells": [
  {
   "cell_type": "code",
   "execution_count": 2,
   "id": "cbd47631",
   "metadata": {},
   "outputs": [],
   "source": [
    "import numpy as np"
   ]
  },
  {
   "cell_type": "code",
   "execution_count": 10,
   "id": "52ad5f2e",
   "metadata": {},
   "outputs": [],
   "source": [
    "c=np.array([[[{\"min temp\":12,\"max temp\":32},{\"min temp\":13,\"max temp\":25},{\"min temp\":7,\"max temp\":26},{\"min temp\":8,\"max temp\":26}]]])"
   ]
  },
  {
   "cell_type": "code",
   "execution_count": 9,
   "id": "9a937c04",
   "metadata": {},
   "outputs": [
    {
     "data": {
      "text/plain": [
       "array([[[{'min temp': 12, 'max temp': 32},\n",
       "         {'min temp': 13, 'max temp': 25},\n",
       "         {'min temp': 7, 'max temp': 26},\n",
       "         {'min temp': 8, 'max temp': 26}]]], dtype=object)"
      ]
     },
     "execution_count": 9,
     "metadata": {},
     "output_type": "execute_result"
    }
   ],
   "source": [
    "c"
   ]
  },
  {
   "cell_type": "code",
   "execution_count": 2,
   "id": "e047a84d",
   "metadata": {},
   "outputs": [],
   "source": [
    "a=np.arange(1,225)"
   ]
  },
  {
   "cell_type": "code",
   "execution_count": 3,
   "id": "9038bd0c",
   "metadata": {},
   "outputs": [
    {
     "data": {
      "text/plain": [
       "array([  1,   2,   3,   4,   5,   6,   7,   8,   9,  10,  11,  12,  13,\n",
       "        14,  15,  16,  17,  18,  19,  20,  21,  22,  23,  24,  25,  26,\n",
       "        27,  28,  29,  30,  31,  32,  33,  34,  35,  36,  37,  38,  39,\n",
       "        40,  41,  42,  43,  44,  45,  46,  47,  48,  49,  50,  51,  52,\n",
       "        53,  54,  55,  56,  57,  58,  59,  60,  61,  62,  63,  64,  65,\n",
       "        66,  67,  68,  69,  70,  71,  72,  73,  74,  75,  76,  77,  78,\n",
       "        79,  80,  81,  82,  83,  84,  85,  86,  87,  88,  89,  90,  91,\n",
       "        92,  93,  94,  95,  96,  97,  98,  99, 100, 101, 102, 103, 104,\n",
       "       105, 106, 107, 108, 109, 110, 111, 112, 113, 114, 115, 116, 117,\n",
       "       118, 119, 120, 121, 122, 123, 124, 125, 126, 127, 128, 129, 130,\n",
       "       131, 132, 133, 134, 135, 136, 137, 138, 139, 140, 141, 142, 143,\n",
       "       144, 145, 146, 147, 148, 149, 150, 151, 152, 153, 154, 155, 156,\n",
       "       157, 158, 159, 160, 161, 162, 163, 164, 165, 166, 167, 168, 169,\n",
       "       170, 171, 172, 173, 174, 175, 176, 177, 178, 179, 180, 181, 182,\n",
       "       183, 184, 185, 186, 187, 188, 189, 190, 191, 192, 193, 194, 195,\n",
       "       196, 197, 198, 199, 200, 201, 202, 203, 204, 205, 206, 207, 208,\n",
       "       209, 210, 211, 212, 213, 214, 215, 216, 217, 218, 219, 220, 221,\n",
       "       222, 223, 224])"
      ]
     },
     "execution_count": 3,
     "metadata": {},
     "output_type": "execute_result"
    }
   ],
   "source": [
    "a"
   ]
  },
  {
   "cell_type": "code",
   "execution_count": 4,
   "id": "7fa6f3f4",
   "metadata": {},
   "outputs": [],
   "source": [
    "a=np.reshape(a,(4,4,7,2))"
   ]
  },
  {
   "cell_type": "code",
   "execution_count": 5,
   "id": "b29f4364",
   "metadata": {},
   "outputs": [
    {
     "data": {
      "text/plain": [
       "array([[[[  1,   2],\n",
       "         [  3,   4],\n",
       "         [  5,   6],\n",
       "         [  7,   8],\n",
       "         [  9,  10],\n",
       "         [ 11,  12],\n",
       "         [ 13,  14]],\n",
       "\n",
       "        [[ 15,  16],\n",
       "         [ 17,  18],\n",
       "         [ 19,  20],\n",
       "         [ 21,  22],\n",
       "         [ 23,  24],\n",
       "         [ 25,  26],\n",
       "         [ 27,  28]],\n",
       "\n",
       "        [[ 29,  30],\n",
       "         [ 31,  32],\n",
       "         [ 33,  34],\n",
       "         [ 35,  36],\n",
       "         [ 37,  38],\n",
       "         [ 39,  40],\n",
       "         [ 41,  42]],\n",
       "\n",
       "        [[ 43,  44],\n",
       "         [ 45,  46],\n",
       "         [ 47,  48],\n",
       "         [ 49,  50],\n",
       "         [ 51,  52],\n",
       "         [ 53,  54],\n",
       "         [ 55,  56]]],\n",
       "\n",
       "\n",
       "       [[[ 57,  58],\n",
       "         [ 59,  60],\n",
       "         [ 61,  62],\n",
       "         [ 63,  64],\n",
       "         [ 65,  66],\n",
       "         [ 67,  68],\n",
       "         [ 69,  70]],\n",
       "\n",
       "        [[ 71,  72],\n",
       "         [ 73,  74],\n",
       "         [ 75,  76],\n",
       "         [ 77,  78],\n",
       "         [ 79,  80],\n",
       "         [ 81,  82],\n",
       "         [ 83,  84]],\n",
       "\n",
       "        [[ 85,  86],\n",
       "         [ 87,  88],\n",
       "         [ 89,  90],\n",
       "         [ 91,  92],\n",
       "         [ 93,  94],\n",
       "         [ 95,  96],\n",
       "         [ 97,  98]],\n",
       "\n",
       "        [[ 99, 100],\n",
       "         [101, 102],\n",
       "         [103, 104],\n",
       "         [105, 106],\n",
       "         [107, 108],\n",
       "         [109, 110],\n",
       "         [111, 112]]],\n",
       "\n",
       "\n",
       "       [[[113, 114],\n",
       "         [115, 116],\n",
       "         [117, 118],\n",
       "         [119, 120],\n",
       "         [121, 122],\n",
       "         [123, 124],\n",
       "         [125, 126]],\n",
       "\n",
       "        [[127, 128],\n",
       "         [129, 130],\n",
       "         [131, 132],\n",
       "         [133, 134],\n",
       "         [135, 136],\n",
       "         [137, 138],\n",
       "         [139, 140]],\n",
       "\n",
       "        [[141, 142],\n",
       "         [143, 144],\n",
       "         [145, 146],\n",
       "         [147, 148],\n",
       "         [149, 150],\n",
       "         [151, 152],\n",
       "         [153, 154]],\n",
       "\n",
       "        [[155, 156],\n",
       "         [157, 158],\n",
       "         [159, 160],\n",
       "         [161, 162],\n",
       "         [163, 164],\n",
       "         [165, 166],\n",
       "         [167, 168]]],\n",
       "\n",
       "\n",
       "       [[[169, 170],\n",
       "         [171, 172],\n",
       "         [173, 174],\n",
       "         [175, 176],\n",
       "         [177, 178],\n",
       "         [179, 180],\n",
       "         [181, 182]],\n",
       "\n",
       "        [[183, 184],\n",
       "         [185, 186],\n",
       "         [187, 188],\n",
       "         [189, 190],\n",
       "         [191, 192],\n",
       "         [193, 194],\n",
       "         [195, 196]],\n",
       "\n",
       "        [[197, 198],\n",
       "         [199, 200],\n",
       "         [201, 202],\n",
       "         [203, 204],\n",
       "         [205, 206],\n",
       "         [207, 208],\n",
       "         [209, 210]],\n",
       "\n",
       "        [[211, 212],\n",
       "         [213, 214],\n",
       "         [215, 216],\n",
       "         [217, 218],\n",
       "         [219, 220],\n",
       "         [221, 222],\n",
       "         [223, 224]]]])"
      ]
     },
     "execution_count": 5,
     "metadata": {},
     "output_type": "execute_result"
    }
   ],
   "source": [
    "a"
   ]
  },
  {
   "cell_type": "code",
   "execution_count": 17,
   "id": "af8bb35f",
   "metadata": {},
   "outputs": [],
   "source": [
    "ex=np.array([[[[ 10,  16],\n",
    "                 [  8,  20],\n",
    "                 [ 15,  20],\n",
    "                 [ 15,  29],\n",
    "                 [  9,  28],\n",
    "                 [ 11,  26],\n",
    "                 [ 10,  29]],\n",
    "\n",
    "                [[ 13,  25],\n",
    "                 [ 10,  20],\n",
    "                 [ 14,  26],\n",
    "                 [-13,  27],\n",
    "                 [  9,  32],\n",
    "                 [ 11,  30],\n",
    "                 [ 14,  20]],\n",
    "\n",
    "                [[  7,  26],\n",
    "                 [  8,  27],\n",
    "                 [  8,  24],\n",
    "                 [  8,  25],\n",
    "                 [ 12,  25],\n",
    "                 [ 13,  30],\n",
    "                 [  7,  20]],\n",
    "\n",
    "                [[  8,  26],\n",
    "                 [ 15,  20],\n",
    "                 [ 15,  28],\n",
    "                 [ 13,  21],\n",
    "                 [  9,  28],\n",
    "                 [  7,  30],\n",
    "                 [  8,  28]]],\n",
    "\n",
    "\n",
    "               [[[ 12,  24],\n",
    "                 [ 13,  25],\n",
    "                 [ 11,  31],\n",
    "                 [  9,  32],\n",
    "                 [ 15,  21],\n",
    "                 [ 11,  22],\n",
    "                 [  7,  31]],\n",
    "\n",
    "                [[ 12,  29],\n",
    "                 [  7,  22],\n",
    "                 [ 11,  25],\n",
    "                 [  9,  21],\n",
    "                 [ 15,  20],\n",
    "                 [  8,  30],\n",
    "                 [  7,  28]],\n",
    "\n",
    "                [[ 12,  21],\n",
    "                 [  9,  27],\n",
    "                 [  7,  21],\n",
    "                 [  8,  22],\n",
    "                 [ 12,  21],\n",
    "                 [ 11,  31],\n",
    "                 [  8,  25]],\n",
    "\n",
    "                [[  9,  26],\n",
    "                 [ 15,  25],\n",
    "                 [ 10,  30],\n",
    "                 [ 11,  32],\n",
    "                 [ 12,  30],\n",
    "                 [ 14,  23],\n",
    "                 [  7,  27]]],\n",
    "\n",
    "\n",
    "               [[[  1,  20],\n",
    "                 [  3,  20],\n",
    "                 [  5,  21],\n",
    "                 [  4,  18],\n",
    "                 [  2,  21],\n",
    "                 [  5,   5],\n",
    "                 [ 19,   6]],\n",
    "\n",
    "                [[  5,  20],\n",
    "                 [  2,  22],\n",
    "                 [  7,  18],\n",
    "                 [  4,  22],\n",
    "                 [  6,  22],\n",
    "                 [  5,   5],\n",
    "                 [ 22,   6]],\n",
    "\n",
    "                [[  8,  18],\n",
    "                 [  8,  21],\n",
    "                 [  7,  19],\n",
    "                 [  5,  18],\n",
    "                 [  5,  20],\n",
    "                 [  3,   7],\n",
    "                 [ 19,   7]],\n",
    "\n",
    "                [[  6,  19],\n",
    "                 [  3,  20],\n",
    "                 [  5,  21],\n",
    "                 [  2,  20],\n",
    "                 [  3,  22],\n",
    "                 [  8,   5],\n",
    "                 [ 21,   7]]],\n",
    "\n",
    "\n",
    "               [[[  9,  21],\n",
    "                 [  8,  22],\n",
    "                 [-10,  19],\n",
    "                 [  9,  22],\n",
    "                 [ 12,  18],\n",
    "                 [ 12,  71],\n",
    "                 [ 18,  12]],\n",
    "\n",
    "                [[ 12,  19],\n",
    "                 [ 12,  20],\n",
    "                 [ 12,  18],\n",
    "                 [ 12,  20],\n",
    "                 [ 12,  20],\n",
    "                 [ 11,   8],\n",
    "                 [ 18,  10]],\n",
    "\n",
    "                [[  8,  19],\n",
    "                 [ 11,  22],\n",
    "                 [  9,  18],\n",
    "                 [  8,  18],\n",
    "                 [  9,  20],\n",
    "                 [  7,   8],\n",
    "                 [ 18,   7]],\n",
    "\n",
    "                [[  8,  18],\n",
    "                 [ 11,  18],\n",
    "                 [  9,  21],\n",
    "                 [ 11,  20],\n",
    "                 [  9,  22],\n",
    "                 [  8,   9],\n",
    "                 [ 19,  12]]]])\n",
    "           "
   ]
  },
  {
   "cell_type": "code",
   "execution_count": 15,
   "id": "f20704be",
   "metadata": {},
   "outputs": [],
   "source": [
    "temp=np.array([[[[7,29],[6,29],[6,25],[14,21],[10,28],[15,21],[14,20]],[[10,26],[13,32],[6,29],[-13,25],[7,31],[14,29],[12,31]],[[15,23],[12,25],[8,30],[8,31],[15,27],[12,27],[6,20]],[[6,29],[6,28],[7,32],[7,32],[14,32],[13,21],[14,25]]],[[[15,30],[9,20],[15,27],[15,23],[7,23],[15,30],[13,27]],[[9,28],[14,20],[6,21],[14,25],[11,21],[14,21],[10,20]],[[7,28],[6,27],[11,27],[11,20],[13,22],[15,20],[13,27]],[[11,23],[11,26],[11,21],[15,26],[9,21],[12,31],[6,24]]],[[[5,19],[7,19],[8,20],[6,19],[3,21],[5,7],[19,2]],[[4,22],[5,20],[6,20],[3,22],[6,18],[5,2],[18,3]],[[7,19],[5,22],[4,21],[8,21],[8,21],[2,3],[21,5]],[[5,21],[7,20],[2,19],[7,21],[4,18],[8,3],[21,8]]]\n",
    ",[[[7,22],[9,22],[-10,19],[8,19],[12,20],[11,71],[21,7]],[[7,18],[11,19],[7,18],[8,18],[11,18],[11,7],[21,8]],[[10,19],[12,20],[7,21],[12,21],[8,18],[9,8],[21,9]],[[10,22],[8,19],[7,19],[12,20],[11,20],[12,8],[19,7]]]])"
   ]
  },
  {
   "cell_type": "code",
   "execution_count": 16,
   "id": "ed6b2938",
   "metadata": {},
   "outputs": [
    {
     "data": {
      "text/plain": [
       "array([[[[  7,  29],\n",
       "         [  6,  29],\n",
       "         [  6,  25],\n",
       "         [ 14,  21],\n",
       "         [ 10,  28],\n",
       "         [ 15,  21],\n",
       "         [ 14,  20]],\n",
       "\n",
       "        [[ 10,  26],\n",
       "         [ 13,  32],\n",
       "         [  6,  29],\n",
       "         [-13,  25],\n",
       "         [  7,  31],\n",
       "         [ 14,  29],\n",
       "         [ 12,  31]],\n",
       "\n",
       "        [[ 15,  23],\n",
       "         [ 12,  25],\n",
       "         [  8,  30],\n",
       "         [  8,  31],\n",
       "         [ 15,  27],\n",
       "         [ 12,  27],\n",
       "         [  6,  20]],\n",
       "\n",
       "        [[  6,  29],\n",
       "         [  6,  28],\n",
       "         [  7,  32],\n",
       "         [  7,  32],\n",
       "         [ 14,  32],\n",
       "         [ 13,  21],\n",
       "         [ 14,  25]]],\n",
       "\n",
       "\n",
       "       [[[ 15,  30],\n",
       "         [  9,  20],\n",
       "         [ 15,  27],\n",
       "         [ 15,  23],\n",
       "         [  7,  23],\n",
       "         [ 15,  30],\n",
       "         [ 13,  27]],\n",
       "\n",
       "        [[  9,  28],\n",
       "         [ 14,  20],\n",
       "         [  6,  21],\n",
       "         [ 14,  25],\n",
       "         [ 11,  21],\n",
       "         [ 14,  21],\n",
       "         [ 10,  20]],\n",
       "\n",
       "        [[  7,  28],\n",
       "         [  6,  27],\n",
       "         [ 11,  27],\n",
       "         [ 11,  20],\n",
       "         [ 13,  22],\n",
       "         [ 15,  20],\n",
       "         [ 13,  27]],\n",
       "\n",
       "        [[ 11,  23],\n",
       "         [ 11,  26],\n",
       "         [ 11,  21],\n",
       "         [ 15,  26],\n",
       "         [  9,  21],\n",
       "         [ 12,  31],\n",
       "         [  6,  24]]],\n",
       "\n",
       "\n",
       "       [[[  5,  19],\n",
       "         [  7,  19],\n",
       "         [  8,  20],\n",
       "         [  6,  19],\n",
       "         [  3,  21],\n",
       "         [  5,   7],\n",
       "         [ 19,   2]],\n",
       "\n",
       "        [[  4,  22],\n",
       "         [  5,  20],\n",
       "         [  6,  20],\n",
       "         [  3,  22],\n",
       "         [  6,  18],\n",
       "         [  5,   2],\n",
       "         [ 18,   3]],\n",
       "\n",
       "        [[  7,  19],\n",
       "         [  5,  22],\n",
       "         [  4,  21],\n",
       "         [  8,  21],\n",
       "         [  8,  21],\n",
       "         [  2,   3],\n",
       "         [ 21,   5]],\n",
       "\n",
       "        [[  5,  21],\n",
       "         [  7,  20],\n",
       "         [  2,  19],\n",
       "         [  7,  21],\n",
       "         [  4,  18],\n",
       "         [  8,   3],\n",
       "         [ 21,   8]]],\n",
       "\n",
       "\n",
       "       [[[  7,  22],\n",
       "         [  9,  22],\n",
       "         [-10,  19],\n",
       "         [  8,  19],\n",
       "         [ 12,  20],\n",
       "         [ 11,  71],\n",
       "         [ 21,   7]],\n",
       "\n",
       "        [[  7,  18],\n",
       "         [ 11,  19],\n",
       "         [  7,  18],\n",
       "         [  8,  18],\n",
       "         [ 11,  18],\n",
       "         [ 11,   7],\n",
       "         [ 21,   8]],\n",
       "\n",
       "        [[ 10,  19],\n",
       "         [ 12,  20],\n",
       "         [  7,  21],\n",
       "         [ 12,  21],\n",
       "         [  8,  18],\n",
       "         [  9,   8],\n",
       "         [ 21,   9]],\n",
       "\n",
       "        [[ 10,  22],\n",
       "         [  8,  19],\n",
       "         [  7,  19],\n",
       "         [ 12,  20],\n",
       "         [ 11,  20],\n",
       "         [ 12,   8],\n",
       "         [ 19,   7]]]])"
      ]
     },
     "execution_count": 16,
     "metadata": {},
     "output_type": "execute_result"
    }
   ],
   "source": [
    "#q1\n",
    "temp"
   ]
  },
  {
   "cell_type": "code",
   "execution_count": 20,
   "id": "0be93454",
   "metadata": {},
   "outputs": [
    {
     "data": {
      "text/plain": [
       "(4, 4, 7, 2)"
      ]
     },
     "execution_count": 20,
     "metadata": {},
     "output_type": "execute_result"
    }
   ],
   "source": [
    "#q2a\n",
    "temp.shape"
   ]
  },
  {
   "cell_type": "code",
   "execution_count": 21,
   "id": "8c9e3a8d",
   "metadata": {},
   "outputs": [
    {
     "data": {
      "text/plain": [
       "4"
      ]
     },
     "execution_count": 21,
     "metadata": {},
     "output_type": "execute_result"
    }
   ],
   "source": [
    "#q2b\n",
    "temp.ndim"
   ]
  },
  {
   "cell_type": "code",
   "execution_count": 18,
   "id": "71c15783",
   "metadata": {},
   "outputs": [
    {
     "data": {
      "text/plain": [
       "array([[[[  7,  29],\n",
       "         [  6,  29],\n",
       "         [  6,  25],\n",
       "         [ 14,  21],\n",
       "         [ 10,  28],\n",
       "         [ 15,  21],\n",
       "         [ 14,  20]]],\n",
       "\n",
       "\n",
       "       [[[ 15,  30],\n",
       "         [  9,  20],\n",
       "         [ 15,  27],\n",
       "         [ 15,  23],\n",
       "         [  7,  23],\n",
       "         [ 15,  30],\n",
       "         [ 13,  27]]],\n",
       "\n",
       "\n",
       "       [[[  5,  19],\n",
       "         [  7,  19],\n",
       "         [  8,  20],\n",
       "         [  6,  19],\n",
       "         [  3,  21],\n",
       "         [  5,   7],\n",
       "         [ 19,   2]]],\n",
       "\n",
       "\n",
       "       [[[  7,  22],\n",
       "         [  9,  22],\n",
       "         [-10,  19],\n",
       "         [  8,  19],\n",
       "         [ 12,  20],\n",
       "         [ 11,  71],\n",
       "         [ 21,   7]]]])"
      ]
     },
     "execution_count": 18,
     "metadata": {},
     "output_type": "execute_result"
    }
   ],
   "source": [
    "#q3 Print the daily temperatures for the first week of each month.\n",
    "temp[:,:1]"
   ]
  },
  {
   "cell_type": "code",
   "execution_count": 8,
   "id": "e1ab9742",
   "metadata": {},
   "outputs": [
    {
     "data": {
      "text/plain": [
       "array([[[[ 8, 20]],\n",
       "\n",
       "        [[10, 20]],\n",
       "\n",
       "        [[ 8, 27]],\n",
       "\n",
       "        [[15, 20]]],\n",
       "\n",
       "\n",
       "       [[[13, 25]],\n",
       "\n",
       "        [[ 7, 22]],\n",
       "\n",
       "        [[ 9, 27]],\n",
       "\n",
       "        [[15, 25]]],\n",
       "\n",
       "\n",
       "       [[[ 3, 20]],\n",
       "\n",
       "        [[ 2, 22]],\n",
       "\n",
       "        [[ 8, 21]],\n",
       "\n",
       "        [[ 3, 20]]],\n",
       "\n",
       "\n",
       "       [[[ 8, 22]],\n",
       "\n",
       "        [[12, 20]],\n",
       "\n",
       "        [[11, 22]],\n",
       "\n",
       "        [[11, 18]]]])"
      ]
     },
     "execution_count": 8,
     "metadata": {},
     "output_type": "execute_result"
    }
   ],
   "source": [
    "#q4 Print the temperatures for Tuesday of each month\n",
    "temp[:,:,1:2,:]"
   ]
  },
  {
   "cell_type": "code",
   "execution_count": 19,
   "id": "78e68606",
   "metadata": {},
   "outputs": [
    {
     "data": {
      "text/plain": [
       "array([[[[30],\n",
       "         [20],\n",
       "         [27],\n",
       "         [23],\n",
       "         [23],\n",
       "         [30],\n",
       "         [27]],\n",
       "\n",
       "        [[28],\n",
       "         [20],\n",
       "         [21],\n",
       "         [25],\n",
       "         [21],\n",
       "         [21],\n",
       "         [20]],\n",
       "\n",
       "        [[28],\n",
       "         [27],\n",
       "         [27],\n",
       "         [20],\n",
       "         [22],\n",
       "         [20],\n",
       "         [27]],\n",
       "\n",
       "        [[23],\n",
       "         [26],\n",
       "         [21],\n",
       "         [26],\n",
       "         [21],\n",
       "         [31],\n",
       "         [24]]],\n",
       "\n",
       "\n",
       "       [[[22],\n",
       "         [22],\n",
       "         [19],\n",
       "         [19],\n",
       "         [20],\n",
       "         [71],\n",
       "         [ 7]],\n",
       "\n",
       "        [[18],\n",
       "         [19],\n",
       "         [18],\n",
       "         [18],\n",
       "         [18],\n",
       "         [ 7],\n",
       "         [ 8]],\n",
       "\n",
       "        [[19],\n",
       "         [20],\n",
       "         [21],\n",
       "         [21],\n",
       "         [18],\n",
       "         [ 8],\n",
       "         [ 9]],\n",
       "\n",
       "        [[22],\n",
       "         [19],\n",
       "         [19],\n",
       "         [20],\n",
       "         [20],\n",
       "         [ 8],\n",
       "         [ 7]]]])"
      ]
     },
     "execution_count": 19,
     "metadata": {},
     "output_type": "execute_result"
    }
   ],
   "source": [
    "#q5 Print only the maximum temperature for all the weekdays of Dec and Feb.\n",
    "temp[1::2,:,:,1:]"
   ]
  },
  {
   "cell_type": "code",
   "execution_count": 22,
   "id": "5c4fccf2",
   "metadata": {},
   "outputs": [
    {
     "name": "stdout",
     "output_type": "stream",
     "text": [
      "Week no. is:  1\n",
      "[7 6 6]\n",
      "Week no. is:  2\n",
      "[  6 -13   7]\n",
      "Week no. is:  3\n",
      "[6]\n",
      "Week no. is:  4\n",
      "[6 6 7 7]\n"
     ]
    }
   ],
   "source": [
    "#q6 Print all the days along with the week number in November when the minimum temperature was less than 8 degrees\n",
    "for i in range (0,4):\n",
    "    y=f[0,i:i+1,0:7,0:1]\n",
    "    z=f[0,i:i+1,0:7,0:1]<8\n",
    "    print(\"Week no. is: \",i+1)\n",
    "    print(y[z])"
   ]
  },
  {
   "cell_type": "code",
   "execution_count": 24,
   "id": "b6d56067",
   "metadata": {},
   "outputs": [
    {
     "name": "stdout",
     "output_type": "stream",
     "text": [
      "Week no. is:  1\n",
      "[30 27 23 23 30 27 22 22 71]\n",
      "Week no. is:  2\n",
      "[28 21 25 21 21]\n",
      "Week no. is:  3\n",
      "[28 27 27 22 27 21 21]\n",
      "Week no. is:  4\n",
      "[23 26 21 26 21 31 24 22]\n"
     ]
    }
   ],
   "source": [
    "#q7 Print all the weeks in Dec and Jan where the maximum temperature has crossed a threshold of 20 degrees.\n",
    "\n",
    "for i in range (0,4):\n",
    "    y=f[1:4:2,i:i+1,0:7,1:2]\n",
    "    z=f[1:4:2,i:i+1,0:7,1:2]>20\n",
    "    print(\"Week no. is: \",i+1)\n",
    "    print(y[z])"
   ]
  },
  {
   "cell_type": "code",
   "execution_count": 47,
   "id": "cbcea0bc",
   "metadata": {},
   "outputs": [
    {
     "name": "stdout",
     "output_type": "stream",
     "text": [
      "Outliers of array is : \n",
      " []\n"
     ]
    }
   ],
   "source": [
    " #q8 Check if there are any absurd values present in the dataset\n",
    "q1 = np.percentile(temp, 25)\n",
    "q3 = np.percentile(temp, 75)\n",
    "iqr = q3 - q1\n",
    "threshold = 1.5 * iqr\n",
    "outliers = np.where((temp < q1 - threshold) | (temp > q3 + threshold))\n",
    " \n",
    "print(\"Outliers of array is : \\n\", temp[outliers])"
   ]
  },
  {
   "cell_type": "code",
   "execution_count": 46,
   "id": "79feed0c",
   "metadata": {},
   "outputs": [
    {
     "data": {
      "text/plain": [
       "(array([0, 3], dtype=int64),\n",
       " array([1, 0], dtype=int64),\n",
       " array([3, 5], dtype=int64),\n",
       " array([0, 1], dtype=int64))"
      ]
     },
     "execution_count": 46,
     "metadata": {},
     "output_type": "execute_result"
    }
   ],
   "source": [
    "#q10 Find and print the indexes of all the outlier(unusual) values present in the above dataset.\n",
    "outliers\n"
   ]
  },
  {
   "cell_type": "code",
   "execution_count": null,
   "id": "e7e726df",
   "metadata": {},
   "outputs": [],
   "source": [
    "#q11 Replace the outliers with an appropriate value.\n",
    "temp[0,1,3,0]=15\n",
    "temp[3,0,5,1]=30\n",
    "print(temp)"
   ]
  },
  {
   "cell_type": "code",
   "execution_count": 24,
   "id": "5591bc2d",
   "metadata": {},
   "outputs": [
    {
     "data": {
      "text/plain": [
       "21.57"
      ]
     },
     "execution_count": 24,
     "metadata": {},
     "output_type": "execute_result"
    }
   ],
   "source": [
    "#q12 Find the average max temperature for the winter months in Jaipur.\n",
    "b=np.average(temp[:,:,:,1:])\n",
    "np.round(b,decimals=2)"
   ]
  },
  {
   "cell_type": "code",
   "execution_count": 4,
   "id": "a9e933eb",
   "metadata": {},
   "outputs": [
    {
     "name": "stdout",
     "output_type": "stream",
     "text": [
      "11.14  9.86  9.57  11.14\n"
     ]
    }
   ],
   "source": [
    "#q13 Find the weekly min avg temp for the month of Dec in Jaipur\n",
    "a=np.mean(temp[1::4,0:1,:,0::2])\n",
    "a=np.round(a,decimals=2)\n",
    "b=np.mean(temp[1::4,1:2,:,0::2])\n",
    "b=np.round(b,decimals=2)\n",
    "c=np.mean(temp[1::4,2:3,:,0::2])\n",
    "c=np.round(c,decimals=2)\n",
    "d=np.mean(temp[1::4,3:4,:,0::2])\n",
    "d=np.round(d,decimals=2)\n",
    "print(a,\"\",b,\"\",c,\"\",d)"
   ]
  },
  {
   "cell_type": "code",
   "execution_count": 9,
   "id": "bf1dda43",
   "metadata": {},
   "outputs": [
    {
     "data": {
      "text/plain": [
       "14.8"
      ]
     },
     "execution_count": 9,
     "metadata": {},
     "output_type": "execute_result"
    }
   ],
   "source": [
    "#q14 Find the overall avg temp for the months Dec and Jan\n",
    "\n",
    "b=np.average(temp[1:3,:,:,:])\n",
    "np.round(b,decimals=2)\n"
   ]
  },
  {
   "cell_type": "code",
   "execution_count": 41,
   "id": "1cec31de",
   "metadata": {},
   "outputs": [
    {
     "name": "stdout",
     "output_type": "stream",
     "text": [
      "(array([1, 2, 3], dtype=int64), array([2, 1, 6], dtype=int64), array([0, 0, 0], dtype=int64))\n",
      "december : \n",
      "week: 2 day: 3  6\n",
      "week: 3 day: 2  6\n",
      "week: 4 day: 7  6\n",
      "(array([0, 1, 1], dtype=int64), array([3, 2, 4], dtype=int64), array([0, 0, 0], dtype=int64))\n",
      "janurary : \n",
      "week: 1 day: 4  2\n",
      "week: 2 day: 3  2\n",
      "week: 2 day: 5  2\n"
     ]
    }
   ],
   "source": [
    "\n",
    "#15.Find the least temp experienced by the city in the month of Dec and Jan. Also print the exact date( Day/Week/Month) for the same.\n",
    "mindec = np.min(temp[1])\n",
    "minjan = np.min(temp[2])\n",
    "c = np.where(temp[1]==mindec)\n",
    "print(c)\n",
    "print(\"december : \")\n",
    "for i,n in zip(c[0],c[1]):\n",
    "  print(f'week: {i+1} day: {n+1} ', mindec)\n",
    "\n",
    "d = np.where(temp[2]==mindec)\n",
    "print(d)\n",
    "print(\"janurary : \")\n",
    "for i,n in zip(d[0],d[1]):\n",
    "    print(f'week: {i+1} day: {n+1} ', minjan)\n"
   ]
  },
  {
   "cell_type": "code",
   "execution_count": 42,
   "id": "304bf030",
   "metadata": {},
   "outputs": [
    {
     "name": "stdout",
     "output_type": "stream",
     "text": [
      "max temp in feb =  30\n",
      "(array([0], dtype=int64), array([5], dtype=int64), array([1], dtype=int64))\n",
      "feb: Week1, day6 :  30\n"
     ]
    }
   ],
   "source": [
    "#16 Find the max temp in the month of Feb and return its date(Day/Week/Month)\n",
    "maxfeb = np.max(temp[3])\n",
    "c=np.where(temp[3]==maxfeb)\n",
    "print('max temp in feb = ', maxfeb)\n",
    "print(c)\n",
    "for i , n in zip(c[0],c[1]):\n",
    "    print(f'feb: Week{i+1}, day{n+1} : ',maxfeb)"
   ]
  },
  {
   "cell_type": "code",
   "execution_count": 39,
   "id": "95d31e97",
   "metadata": {},
   "outputs": [
    {
     "name": "stdout",
     "output_type": "stream",
     "text": [
      "average temp of november is: 17.5\n",
      "(array([0], dtype=int64), array([0], dtype=int64), array([0], dtype=int64), array([0], dtype=int64))\n"
     ]
    }
   ],
   "source": [
    "#q17 Find the days in the month of Nov where the max temp of the day dropped below the avg temp of the month.\n",
    "b=np.average(temp[0::4])\n",
    "c=np.round(b,decimals=2)\n",
    "print(\"average temp of november is:\",c)\n",
    "d=np.where(temp[0::4,:,:,1:]<c)\n",
    "print(d)"
   ]
  },
  {
   "cell_type": "code",
   "execution_count": 48,
   "id": "6ca0a963",
   "metadata": {},
   "outputs": [
    {
     "data": {
      "text/plain": [
       "array([[ 10,  16,   8,  20,  15,  20,  15,  29,   9,  28,  11,  26,  10,\n",
       "         29,  13,  25,  10,  20,  14,  26, -13,  27,   9,  32,  11,  30,\n",
       "         14,  20,   7,  26,   8,  27,   8,  24,   8,  25,  12,  25,  13,\n",
       "         30,   7,  20,   8,  26,  15,  20,  15,  28,  13,  21,   9,  28,\n",
       "          7,  30,   8,  28],\n",
       "       [ 12,  24,  13,  25,  11,  31,   9,  32,  15,  21,  11,  22,   7,\n",
       "         31,  12,  29,   7,  22,  11,  25,   9,  21,  15,  20,   8,  30,\n",
       "          7,  28,  12,  21,   9,  27,   7,  21,   8,  22,  12,  21,  11,\n",
       "         31,   8,  25,   9,  26,  15,  25,  10,  30,  11,  32,  12,  30,\n",
       "         14,  23,   7,  27],\n",
       "       [  1,  20,   3,  20,   5,  21,   4,  18,   2,  21,   5,   5,  19,\n",
       "          6,   5,  20,   2,  22,   7,  18,   4,  22,   6,  22,   5,   5,\n",
       "         22,   6,   8,  18,   8,  21,   7,  19,   5,  18,   5,  20,   3,\n",
       "          7,  19,   7,   6,  19,   3,  20,   5,  21,   2,  20,   3,  22,\n",
       "          8,   5,  21,   7],\n",
       "       [  9,  21,   8,  22, -10,  19,   9,  22,  12,  18,  12,  71,  18,\n",
       "         12,  12,  19,  12,  20,  12,  18,  12,  20,  12,  20,  11,   8,\n",
       "         18,  10,   8,  19,  11,  22,   9,  18,   8,  18,   9,  20,   7,\n",
       "          8,  18,   7,   8,  18,  11,  18,   9,  21,  11,  20,   9,  22,\n",
       "          8,   9,  19,  12]])"
      ]
     },
     "execution_count": 48,
     "metadata": {},
     "output_type": "execute_result"
    }
   ],
   "source": [
    "#18 Convert the above dataset into an array where the weeks of the same \n",
    "#month must be present in the same row, but belonging to different months\n",
    "#should come in a row either below or above the selected month\n",
    "np.reshape(temp,(4,56))"
   ]
  },
  {
   "cell_type": "code",
   "execution_count": 43,
   "id": "a0150695",
   "metadata": {},
   "outputs": [
    {
     "name": "stdout",
     "output_type": "stream",
     "text": [
      "temperature in fahrenheit is:\n",
      " [[[[44.6 84.2]\n",
      "   [42.8 84.2]\n",
      "   [42.8 77. ]\n",
      "   [57.2 69.8]\n",
      "   [50.  82.4]\n",
      "   [59.  69.8]\n",
      "   [57.2 68. ]]\n",
      "\n",
      "  [[50.  78.8]\n",
      "   [55.4 89.6]\n",
      "   [42.8 84.2]\n",
      "   [59.  77. ]\n",
      "   [44.6 87.8]\n",
      "   [57.2 84.2]\n",
      "   [53.6 87.8]]\n",
      "\n",
      "  [[59.  73.4]\n",
      "   [53.6 77. ]\n",
      "   [46.4 86. ]\n",
      "   [46.4 87.8]\n",
      "   [59.  80.6]\n",
      "   [53.6 80.6]\n",
      "   [42.8 68. ]]\n",
      "\n",
      "  [[42.8 84.2]\n",
      "   [42.8 82.4]\n",
      "   [44.6 89.6]\n",
      "   [44.6 89.6]\n",
      "   [57.2 89.6]\n",
      "   [55.4 69.8]\n",
      "   [57.2 77. ]]]\n",
      "\n",
      "\n",
      " [[[59.  86. ]\n",
      "   [48.2 68. ]\n",
      "   [59.  80.6]\n",
      "   [59.  73.4]\n",
      "   [44.6 73.4]\n",
      "   [59.  86. ]\n",
      "   [55.4 80.6]]\n",
      "\n",
      "  [[48.2 82.4]\n",
      "   [57.2 68. ]\n",
      "   [42.8 69.8]\n",
      "   [57.2 77. ]\n",
      "   [51.8 69.8]\n",
      "   [57.2 69.8]\n",
      "   [50.  68. ]]\n",
      "\n",
      "  [[44.6 82.4]\n",
      "   [42.8 80.6]\n",
      "   [51.8 80.6]\n",
      "   [51.8 68. ]\n",
      "   [55.4 71.6]\n",
      "   [59.  68. ]\n",
      "   [55.4 80.6]]\n",
      "\n",
      "  [[51.8 73.4]\n",
      "   [51.8 78.8]\n",
      "   [51.8 69.8]\n",
      "   [59.  78.8]\n",
      "   [48.2 69.8]\n",
      "   [53.6 87.8]\n",
      "   [42.8 75.2]]]\n",
      "\n",
      "\n",
      " [[[41.  66.2]\n",
      "   [44.6 66.2]\n",
      "   [46.4 68. ]\n",
      "   [42.8 66.2]\n",
      "   [37.4 69.8]\n",
      "   [41.  44.6]\n",
      "   [66.2 35.6]]\n",
      "\n",
      "  [[39.2 71.6]\n",
      "   [41.  68. ]\n",
      "   [42.8 68. ]\n",
      "   [37.4 71.6]\n",
      "   [42.8 64.4]\n",
      "   [41.  35.6]\n",
      "   [64.4 37.4]]\n",
      "\n",
      "  [[44.6 66.2]\n",
      "   [41.  71.6]\n",
      "   [39.2 69.8]\n",
      "   [46.4 69.8]\n",
      "   [46.4 69.8]\n",
      "   [35.6 37.4]\n",
      "   [69.8 41. ]]\n",
      "\n",
      "  [[41.  69.8]\n",
      "   [44.6 68. ]\n",
      "   [35.6 66.2]\n",
      "   [44.6 69.8]\n",
      "   [39.2 64.4]\n",
      "   [46.4 37.4]\n",
      "   [69.8 46.4]]]\n",
      "\n",
      "\n",
      " [[[44.6 71.6]\n",
      "   [48.2 71.6]\n",
      "   [14.  66.2]\n",
      "   [46.4 66.2]\n",
      "   [53.6 68. ]\n",
      "   [51.8 86. ]\n",
      "   [69.8 44.6]]\n",
      "\n",
      "  [[44.6 64.4]\n",
      "   [51.8 66.2]\n",
      "   [44.6 64.4]\n",
      "   [46.4 64.4]\n",
      "   [51.8 64.4]\n",
      "   [51.8 44.6]\n",
      "   [69.8 46.4]]\n",
      "\n",
      "  [[50.  66.2]\n",
      "   [53.6 68. ]\n",
      "   [44.6 69.8]\n",
      "   [53.6 69.8]\n",
      "   [46.4 64.4]\n",
      "   [48.2 46.4]\n",
      "   [69.8 48.2]]\n",
      "\n",
      "  [[50.  71.6]\n",
      "   [46.4 66.2]\n",
      "   [44.6 66.2]\n",
      "   [53.6 68. ]\n",
      "   [51.8 68. ]\n",
      "   [53.6 46.4]\n",
      "   [66.2 44.6]]]]\n"
     ]
    }
   ],
   "source": [
    "#q19 The above data is appropriate for an audience who follow the metric system of measurement. Create an array that holds the same data but presented in Fahrenheit.\n",
    "cel=np.array(temp)\n",
    "feh=((9*cel/5)+32)\n",
    "print(\"temperature in fahrenheit is:\\n\",feh)"
   ]
  },
  {
   "cell_type": "code",
   "execution_count": 44,
   "id": "4ecd21cf",
   "metadata": {},
   "outputs": [
    {
     "name": "stdout",
     "output_type": "stream",
     "text": [
      "[19.21428571 17.64285714 17.64285714 16.71428571]\n"
     ]
    }
   ],
   "source": [
    "#q20 Sort the above data in descending order on the basis of weekly average for the month of Dec\n",
    "a=np.mean(temp[1::4,0::4,:,:])\n",
    "b=np.mean(temp[1::4,1::4,:,:])\n",
    "c=np.mean(temp[1::4,2::4,:,:])\n",
    "d=np.mean(temp[1::4,3::4,:,:])\n",
    "arr=np.array([a,b,c,d])\n",
    "arr[::-1].sort()\n",
    "print(arr)\n",
    "\n"
   ]
  },
  {
   "cell_type": "code",
   "execution_count": 45,
   "id": "fd5b4598",
   "metadata": {},
   "outputs": [
    {
     "name": "stdout",
     "output_type": "stream",
     "text": [
      "difference between max and min temp:\n",
      " [[[[ 22]\n",
      "   [ 23]\n",
      "   [ 19]\n",
      "   [  7]\n",
      "   [ 18]\n",
      "   [  6]\n",
      "   [  6]]\n",
      "\n",
      "  [[ 16]\n",
      "   [ 19]\n",
      "   [ 23]\n",
      "   [ 10]\n",
      "   [ 24]\n",
      "   [ 15]\n",
      "   [ 19]]\n",
      "\n",
      "  [[  8]\n",
      "   [ 13]\n",
      "   [ 22]\n",
      "   [ 23]\n",
      "   [ 12]\n",
      "   [ 15]\n",
      "   [ 14]]\n",
      "\n",
      "  [[ 23]\n",
      "   [ 22]\n",
      "   [ 25]\n",
      "   [ 25]\n",
      "   [ 18]\n",
      "   [  8]\n",
      "   [ 11]]]\n",
      "\n",
      "\n",
      " [[[ 15]\n",
      "   [ 11]\n",
      "   [ 12]\n",
      "   [  8]\n",
      "   [ 16]\n",
      "   [ 15]\n",
      "   [ 14]]\n",
      "\n",
      "  [[ 19]\n",
      "   [  6]\n",
      "   [ 15]\n",
      "   [ 11]\n",
      "   [ 10]\n",
      "   [  7]\n",
      "   [ 10]]\n",
      "\n",
      "  [[ 21]\n",
      "   [ 21]\n",
      "   [ 16]\n",
      "   [  9]\n",
      "   [  9]\n",
      "   [  5]\n",
      "   [ 14]]\n",
      "\n",
      "  [[ 12]\n",
      "   [ 15]\n",
      "   [ 10]\n",
      "   [ 11]\n",
      "   [ 12]\n",
      "   [ 19]\n",
      "   [ 18]]]\n",
      "\n",
      "\n",
      " [[[ 14]\n",
      "   [ 12]\n",
      "   [ 12]\n",
      "   [ 13]\n",
      "   [ 18]\n",
      "   [  2]\n",
      "   [-17]]\n",
      "\n",
      "  [[ 18]\n",
      "   [ 15]\n",
      "   [ 14]\n",
      "   [ 19]\n",
      "   [ 12]\n",
      "   [ -3]\n",
      "   [-15]]\n",
      "\n",
      "  [[ 12]\n",
      "   [ 17]\n",
      "   [ 17]\n",
      "   [ 13]\n",
      "   [ 13]\n",
      "   [  1]\n",
      "   [-16]]\n",
      "\n",
      "  [[ 16]\n",
      "   [ 13]\n",
      "   [ 17]\n",
      "   [ 14]\n",
      "   [ 14]\n",
      "   [ -5]\n",
      "   [-13]]]\n",
      "\n",
      "\n",
      " [[[ 15]\n",
      "   [ 13]\n",
      "   [ 29]\n",
      "   [ 11]\n",
      "   [  8]\n",
      "   [ 19]\n",
      "   [-14]]\n",
      "\n",
      "  [[ 11]\n",
      "   [  8]\n",
      "   [ 11]\n",
      "   [ 10]\n",
      "   [  7]\n",
      "   [ -4]\n",
      "   [-13]]\n",
      "\n",
      "  [[  9]\n",
      "   [  8]\n",
      "   [ 14]\n",
      "   [  9]\n",
      "   [ 10]\n",
      "   [ -1]\n",
      "   [-12]]\n",
      "\n",
      "  [[ 12]\n",
      "   [ 11]\n",
      "   [ 12]\n",
      "   [  8]\n",
      "   [  9]\n",
      "   [ -4]\n",
      "   [-12]]]]\n"
     ]
    }
   ],
   "source": [
    "#q22 Create an array that stores the difference between the min and max temp for each day in all the winter month\n",
    "a=temp[:,:,:,1:]\n",
    "b=temp[:,:,:,0::2]\n",
    "c=a-b\n",
    "print(\"difference between max and min temp:\\n\",c)"
   ]
  },
  {
   "cell_type": "code",
   "execution_count": null,
   "id": "ca72526d",
   "metadata": {},
   "outputs": [],
   "source": [
    "\n"
   ]
  },
  {
   "cell_type": "code",
   "execution_count": null,
   "id": "3fb47c7f",
   "metadata": {},
   "outputs": [],
   "source": []
  },
  {
   "cell_type": "code",
   "execution_count": null,
   "id": "72350ca6",
   "metadata": {},
   "outputs": [],
   "source": []
  },
  {
   "cell_type": "code",
   "execution_count": null,
   "id": "79fbbc26",
   "metadata": {},
   "outputs": [],
   "source": []
  },
  {
   "cell_type": "code",
   "execution_count": null,
   "id": "afb1a8cc",
   "metadata": {},
   "outputs": [],
   "source": []
  },
  {
   "cell_type": "code",
   "execution_count": null,
   "id": "375a3a8a",
   "metadata": {},
   "outputs": [],
   "source": []
  },
  {
   "cell_type": "code",
   "execution_count": null,
   "id": "e5e6eb4f",
   "metadata": {},
   "outputs": [],
   "source": []
  },
  {
   "cell_type": "code",
   "execution_count": null,
   "id": "04adc99d",
   "metadata": {},
   "outputs": [],
   "source": []
  },
  {
   "cell_type": "code",
   "execution_count": null,
   "id": "dc3312e7",
   "metadata": {},
   "outputs": [],
   "source": []
  }
 ],
 "metadata": {
  "kernelspec": {
   "display_name": "Python 3 (ipykernel)",
   "language": "python",
   "name": "python3"
  },
  "language_info": {
   "codemirror_mode": {
    "name": "ipython",
    "version": 3
   },
   "file_extension": ".py",
   "mimetype": "text/x-python",
   "name": "python",
   "nbconvert_exporter": "python",
   "pygments_lexer": "ipython3",
   "version": "3.11.3"
  }
 },
 "nbformat": 4,
 "nbformat_minor": 5
}
